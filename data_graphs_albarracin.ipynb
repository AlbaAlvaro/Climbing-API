{
 "cells": [
  {
   "cell_type": "code",
   "execution_count": 6,
   "metadata": {},
   "outputs": [],
   "source": [
    "import pandas as pd\n",
    "import matplotlib.pyplot as plt\n",
    "import seaborn as sns"
   ]
  },
  {
   "cell_type": "code",
   "execution_count": 179,
   "metadata": {},
   "outputs": [],
   "source": [
    "albarracin=pd.read_csv('albarracin.csv')\n",
    "chulilla=pd.read_csv(\"chulilla.csv\")\n",
    "cuenca=pd.read_csv(\"cuenca.csv\")\n",
    "el_chorro=pd.read_csv(\"el_chorro.csv\")\n",
    "la_pedriza=pd.read_csv(\"la_pedriza.csv\")\n",
    "mallorca=pd.read_csv(\"mallorca.csv\")\n",
    "margalef=pd.read_csv(\"margalef.csv\")\n",
    "rodellar=pd.read_csv(\"rodellar.csv\")"
   ]
  },
  {
   "cell_type": "code",
   "execution_count": 180,
   "metadata": {},
   "outputs": [],
   "source": [
    "chulilla[\"place\"]=\"chulilla\"\n",
    "albarracin[\"place\"]=\"albarracin\"\n",
    "cuenca[\"place\"]=\"cuenca\"\n",
    "el_chorro[\"place\"]=\"el_chorro\"\n",
    "la_pedriza[\"place\"]=\"la_pedriza\"\n",
    "mallorca[\"place\"]=\"mallorca\"\n",
    "margalef[\"place\"]=\"margalef\"\n",
    "rodellar[\"place\"]=\"rodellar\""
   ]
  },
  {
   "cell_type": "code",
   "execution_count": 172,
   "metadata": {},
   "outputs": [
    {
     "data": {
      "text/html": [
       "<div>\n",
       "<style scoped>\n",
       "    .dataframe tbody tr th:only-of-type {\n",
       "        vertical-align: middle;\n",
       "    }\n",
       "\n",
       "    .dataframe tbody tr th {\n",
       "        vertical-align: top;\n",
       "    }\n",
       "\n",
       "    .dataframe thead th {\n",
       "        text-align: right;\n",
       "    }\n",
       "</style>\n",
       "<table border=\"1\" class=\"dataframe\">\n",
       "  <thead>\n",
       "    <tr style=\"text-align: right;\">\n",
       "      <th></th>\n",
       "      <th>route name</th>\n",
       "      <th>sector name</th>\n",
       "      <th>grade</th>\n",
       "      <th>ascents</th>\n",
       "      <th>stars</th>\n",
       "      <th>place</th>\n",
       "    </tr>\n",
       "  </thead>\n",
       "  <tbody>\n",
       "    <tr>\n",
       "      <th>0</th>\n",
       "      <td>Techo Don Pepo</td>\n",
       "      <td>Cabrerizo</td>\n",
       "      <td>7A</td>\n",
       "      <td>732</td>\n",
       "      <td>4</td>\n",
       "      <td>albarracin</td>\n",
       "    </tr>\n",
       "    <tr>\n",
       "      <th>1</th>\n",
       "      <td>N.N.</td>\n",
       "      <td>Unknown Crag</td>\n",
       "      <td>6C+</td>\n",
       "      <td>595</td>\n",
       "      <td>3</td>\n",
       "      <td>albarracin</td>\n",
       "    </tr>\n",
       "    <tr>\n",
       "      <th>2</th>\n",
       "      <td>zarzamora</td>\n",
       "      <td>Parking</td>\n",
       "      <td>7B</td>\n",
       "      <td>519</td>\n",
       "      <td>4</td>\n",
       "      <td>albarracin</td>\n",
       "    </tr>\n",
       "    <tr>\n",
       "      <th>3</th>\n",
       "      <td>N.N.</td>\n",
       "      <td>Techos</td>\n",
       "      <td>6C+</td>\n",
       "      <td>513</td>\n",
       "      <td>4</td>\n",
       "      <td>albarracin</td>\n",
       "    </tr>\n",
       "    <tr>\n",
       "      <th>4</th>\n",
       "      <td>La lagrima</td>\n",
       "      <td>Arrastradero</td>\n",
       "      <td>6C</td>\n",
       "      <td>482</td>\n",
       "      <td>3</td>\n",
       "      <td>albarracin</td>\n",
       "    </tr>\n",
       "    <tr>\n",
       "      <th>...</th>\n",
       "      <td>...</td>\n",
       "      <td>...</td>\n",
       "      <td>...</td>\n",
       "      <td>...</td>\n",
       "      <td>...</td>\n",
       "      <td>...</td>\n",
       "    </tr>\n",
       "    <tr>\n",
       "      <th>9558</th>\n",
       "      <td>Placa Valle de la madera 3</td>\n",
       "      <td>Valle de la madera</td>\n",
       "      <td>6A</td>\n",
       "      <td>0</td>\n",
       "      <td>3</td>\n",
       "      <td>albarracin</td>\n",
       "    </tr>\n",
       "    <tr>\n",
       "      <th>9559</th>\n",
       "      <td>Placa Valle de la madera alta</td>\n",
       "      <td>Valle de la madera</td>\n",
       "      <td>6A</td>\n",
       "      <td>0</td>\n",
       "      <td>3</td>\n",
       "      <td>albarracin</td>\n",
       "    </tr>\n",
       "    <tr>\n",
       "      <th>9560</th>\n",
       "      <td>Stranger thank</td>\n",
       "      <td>Valle de la madera</td>\n",
       "      <td>6B</td>\n",
       "      <td>0</td>\n",
       "      <td>4</td>\n",
       "      <td>albarracin</td>\n",
       "    </tr>\n",
       "    <tr>\n",
       "      <th>9561</th>\n",
       "      <td>Esmegma</td>\n",
       "      <td>Valle de la madera</td>\n",
       "      <td>6B</td>\n",
       "      <td>0</td>\n",
       "      <td>2</td>\n",
       "      <td>albarracin</td>\n",
       "    </tr>\n",
       "    <tr>\n",
       "      <th>9562</th>\n",
       "      <td>Muerdesombras</td>\n",
       "      <td>Valle de la madera</td>\n",
       "      <td>7A</td>\n",
       "      <td>0</td>\n",
       "      <td>3</td>\n",
       "      <td>albarracin</td>\n",
       "    </tr>\n",
       "  </tbody>\n",
       "</table>\n",
       "<p>9563 rows × 6 columns</p>\n",
       "</div>"
      ],
      "text/plain": [
       "                         route name         sector name grade  ascents  stars  \\\n",
       "0                    Techo Don Pepo           Cabrerizo    7A      732      4   \n",
       "1                              N.N.        Unknown Crag   6C+      595      3   \n",
       "2                         zarzamora             Parking    7B      519      4   \n",
       "3                              N.N.              Techos   6C+      513      4   \n",
       "4                        La lagrima        Arrastradero    6C      482      3   \n",
       "...                             ...                 ...   ...      ...    ...   \n",
       "9558     Placa Valle de la madera 3  Valle de la madera    6A        0      3   \n",
       "9559  Placa Valle de la madera alta  Valle de la madera    6A        0      3   \n",
       "9560                 Stranger thank  Valle de la madera    6B        0      4   \n",
       "9561                        Esmegma  Valle de la madera    6B        0      2   \n",
       "9562                  Muerdesombras  Valle de la madera    7A        0      3   \n",
       "\n",
       "           place  \n",
       "0     albarracin  \n",
       "1     albarracin  \n",
       "2     albarracin  \n",
       "3     albarracin  \n",
       "4     albarracin  \n",
       "...          ...  \n",
       "9558  albarracin  \n",
       "9559  albarracin  \n",
       "9560  albarracin  \n",
       "9561  albarracin  \n",
       "9562  albarracin  \n",
       "\n",
       "[9563 rows x 6 columns]"
      ]
     },
     "execution_count": 172,
     "metadata": {},
     "output_type": "execute_result"
    }
   ],
   "source": [
    "albarracin"
   ]
  },
  {
   "cell_type": "code",
   "execution_count": 181,
   "metadata": {},
   "outputs": [],
   "source": [
    "df=pd.concat([albarracin, chulilla, cuenca, el_chorro, la_pedriza, mallorca,margalef, rodellar])"
   ]
  },
  {
   "cell_type": "code",
   "execution_count": 182,
   "metadata": {},
   "outputs": [],
   "source": [
    "df=df.drop(columns=\"_id\")"
   ]
  },
  {
   "cell_type": "code",
   "execution_count": 183,
   "metadata": {
    "scrolled": true
   },
   "outputs": [
    {
     "data": {
      "text/html": [
       "<div>\n",
       "<style scoped>\n",
       "    .dataframe tbody tr th:only-of-type {\n",
       "        vertical-align: middle;\n",
       "    }\n",
       "\n",
       "    .dataframe tbody tr th {\n",
       "        vertical-align: top;\n",
       "    }\n",
       "\n",
       "    .dataframe thead th {\n",
       "        text-align: right;\n",
       "    }\n",
       "</style>\n",
       "<table border=\"1\" class=\"dataframe\">\n",
       "  <thead>\n",
       "    <tr style=\"text-align: right;\">\n",
       "      <th></th>\n",
       "      <th>route name</th>\n",
       "      <th>sector name</th>\n",
       "      <th>grade</th>\n",
       "      <th>ascents</th>\n",
       "      <th>stars</th>\n",
       "      <th>place</th>\n",
       "    </tr>\n",
       "  </thead>\n",
       "  <tbody>\n",
       "    <tr>\n",
       "      <th>0</th>\n",
       "      <td>Techo Don Pepo</td>\n",
       "      <td>Cabrerizo</td>\n",
       "      <td>7A</td>\n",
       "      <td>732</td>\n",
       "      <td>4</td>\n",
       "      <td>albarracin</td>\n",
       "    </tr>\n",
       "    <tr>\n",
       "      <th>1</th>\n",
       "      <td>N.N.</td>\n",
       "      <td>Unknown Crag</td>\n",
       "      <td>6C+</td>\n",
       "      <td>595</td>\n",
       "      <td>3</td>\n",
       "      <td>albarracin</td>\n",
       "    </tr>\n",
       "    <tr>\n",
       "      <th>2</th>\n",
       "      <td>zarzamora</td>\n",
       "      <td>Parking</td>\n",
       "      <td>7B</td>\n",
       "      <td>519</td>\n",
       "      <td>4</td>\n",
       "      <td>albarracin</td>\n",
       "    </tr>\n",
       "    <tr>\n",
       "      <th>3</th>\n",
       "      <td>N.N.</td>\n",
       "      <td>Techos</td>\n",
       "      <td>6C+</td>\n",
       "      <td>513</td>\n",
       "      <td>4</td>\n",
       "      <td>albarracin</td>\n",
       "    </tr>\n",
       "    <tr>\n",
       "      <th>4</th>\n",
       "      <td>La lagrima</td>\n",
       "      <td>Arrastradero</td>\n",
       "      <td>6C</td>\n",
       "      <td>482</td>\n",
       "      <td>3</td>\n",
       "      <td>albarracin</td>\n",
       "    </tr>\n",
       "    <tr>\n",
       "      <th>...</th>\n",
       "      <td>...</td>\n",
       "      <td>...</td>\n",
       "      <td>...</td>\n",
       "      <td>...</td>\n",
       "      <td>...</td>\n",
       "      <td>...</td>\n",
       "    </tr>\n",
       "    <tr>\n",
       "      <th>3344</th>\n",
       "      <td>N.N.</td>\n",
       "      <td>Laperne</td>\n",
       "      <td>7c+</td>\n",
       "      <td>false</td>\n",
       "      <td>0</td>\n",
       "      <td>rodellar</td>\n",
       "    </tr>\n",
       "    <tr>\n",
       "      <th>3345</th>\n",
       "      <td>Patatral</td>\n",
       "      <td>Unknown Sector</td>\n",
       "      <td>8c+</td>\n",
       "      <td>false</td>\n",
       "      <td>0</td>\n",
       "      <td>rodellar</td>\n",
       "    </tr>\n",
       "    <tr>\n",
       "      <th>3346</th>\n",
       "      <td>Brumisator</td>\n",
       "      <td>Cafè Solo</td>\n",
       "      <td>8a</td>\n",
       "      <td>false</td>\n",
       "      <td>0</td>\n",
       "      <td>rodellar</td>\n",
       "    </tr>\n",
       "    <tr>\n",
       "      <th>3347</th>\n",
       "      <td>Derecha - las niñas del mascun</td>\n",
       "      <td>El callejón</td>\n",
       "      <td>6b</td>\n",
       "      <td>false</td>\n",
       "      <td>0</td>\n",
       "      <td>rodellar</td>\n",
       "    </tr>\n",
       "    <tr>\n",
       "      <th>3348</th>\n",
       "      <td>Derecha +1 las niñas del mascun</td>\n",
       "      <td>El callejón</td>\n",
       "      <td>6b+</td>\n",
       "      <td>false</td>\n",
       "      <td>0</td>\n",
       "      <td>rodellar</td>\n",
       "    </tr>\n",
       "  </tbody>\n",
       "</table>\n",
       "<p>35502 rows × 6 columns</p>\n",
       "</div>"
      ],
      "text/plain": [
       "                           route name     sector name grade ascents  stars  \\\n",
       "0                      Techo Don Pepo       Cabrerizo    7A     732      4   \n",
       "1                                N.N.    Unknown Crag   6C+     595      3   \n",
       "2                           zarzamora         Parking    7B     519      4   \n",
       "3                                N.N.          Techos   6C+     513      4   \n",
       "4                          La lagrima    Arrastradero    6C     482      3   \n",
       "...                               ...             ...   ...     ...    ...   \n",
       "3344                             N.N.         Laperne   7c+   false      0   \n",
       "3345                         Patatral  Unknown Sector   8c+   false      0   \n",
       "3346                       Brumisator       Cafè Solo    8a   false      0   \n",
       "3347   Derecha - las niñas del mascun     El callejón    6b   false      0   \n",
       "3348  Derecha +1 las niñas del mascun     El callejón   6b+   false      0   \n",
       "\n",
       "           place  \n",
       "0     albarracin  \n",
       "1     albarracin  \n",
       "2     albarracin  \n",
       "3     albarracin  \n",
       "4     albarracin  \n",
       "...          ...  \n",
       "3344    rodellar  \n",
       "3345    rodellar  \n",
       "3346    rodellar  \n",
       "3347    rodellar  \n",
       "3348    rodellar  \n",
       "\n",
       "[35502 rows x 6 columns]"
      ]
     },
     "execution_count": 183,
     "metadata": {},
     "output_type": "execute_result"
    }
   ],
   "source": [
    "df"
   ]
  },
  {
   "cell_type": "code",
   "execution_count": 184,
   "metadata": {},
   "outputs": [
    {
     "data": {
      "text/plain": [
       "<seaborn.axisgrid.FacetGrid at 0x2899ddbf610>"
      ]
     },
     "execution_count": 184,
     "metadata": {},
     "output_type": "execute_result"
    },
    {
     "data": {
      "image/png": "[encoded data removed]",
      "text/plain": [
       "<Figure size 1008x504 with 1 Axes>"
      ]
     },
     "metadata": {
      "needs_background": "light"
     },
     "output_type": "display_data"
    }
   ],
   "source": [
    "g=sns.catplot(x=\"place\", kind=\"count\", palette=\"PuBu\", data=df, height=7, aspect=2)\n",
    "g.set_xticklabels(rotation=45)"
   ]
  },
  {
   "cell_type": "markdown",
   "metadata": {},
   "source": [
    "### Correlation matrix"
   ]
  },
  {
   "cell_type": "code",
   "execution_count": 130,
   "metadata": {},
   "outputs": [
    {
     "data": {
      "text/html": [
       "<div>\n",
       "<style scoped>\n",
       "    .dataframe tbody tr th:only-of-type {\n",
       "        vertical-align: middle;\n",
       "    }\n",
       "\n",
       "    .dataframe tbody tr th {\n",
       "        vertical-align: top;\n",
       "    }\n",
       "\n",
       "    .dataframe thead th {\n",
       "        text-align: right;\n",
       "    }\n",
       "</style>\n",
       "<table border=\"1\" class=\"dataframe\">\n",
       "  <thead>\n",
       "    <tr style=\"text-align: right;\">\n",
       "      <th></th>\n",
       "      <th>route name</th>\n",
       "      <th>sector name</th>\n",
       "      <th>grade</th>\n",
       "      <th>ascents</th>\n",
       "      <th>stars</th>\n",
       "      <th>grade_num</th>\n",
       "    </tr>\n",
       "  </thead>\n",
       "  <tbody>\n",
       "    <tr>\n",
       "      <th>0</th>\n",
       "      <td>Techo Don Pepo</td>\n",
       "      <td>Cabrerizo</td>\n",
       "      <td>7A</td>\n",
       "      <td>732</td>\n",
       "      <td>4</td>\n",
       "      <td>16</td>\n",
       "    </tr>\n",
       "    <tr>\n",
       "      <th>1</th>\n",
       "      <td>N.N.</td>\n",
       "      <td>Unknown Crag</td>\n",
       "      <td>6C+</td>\n",
       "      <td>595</td>\n",
       "      <td>3</td>\n",
       "      <td>15</td>\n",
       "    </tr>\n",
       "    <tr>\n",
       "      <th>2</th>\n",
       "      <td>zarzamora</td>\n",
       "      <td>Parking</td>\n",
       "      <td>7B</td>\n",
       "      <td>519</td>\n",
       "      <td>4</td>\n",
       "      <td>18</td>\n",
       "    </tr>\n",
       "    <tr>\n",
       "      <th>3</th>\n",
       "      <td>N.N.</td>\n",
       "      <td>Techos</td>\n",
       "      <td>6C+</td>\n",
       "      <td>513</td>\n",
       "      <td>4</td>\n",
       "      <td>15</td>\n",
       "    </tr>\n",
       "    <tr>\n",
       "      <th>4</th>\n",
       "      <td>La lagrima</td>\n",
       "      <td>Arrastradero</td>\n",
       "      <td>6C</td>\n",
       "      <td>482</td>\n",
       "      <td>3</td>\n",
       "      <td>14</td>\n",
       "    </tr>\n",
       "    <tr>\n",
       "      <th>...</th>\n",
       "      <td>...</td>\n",
       "      <td>...</td>\n",
       "      <td>...</td>\n",
       "      <td>...</td>\n",
       "      <td>...</td>\n",
       "      <td>...</td>\n",
       "    </tr>\n",
       "    <tr>\n",
       "      <th>9558</th>\n",
       "      <td>Placa Valle de la madera 3</td>\n",
       "      <td>Valle de la madera</td>\n",
       "      <td>6A</td>\n",
       "      <td>0</td>\n",
       "      <td>3</td>\n",
       "      <td>10</td>\n",
       "    </tr>\n",
       "    <tr>\n",
       "      <th>9559</th>\n",
       "      <td>Placa Valle de la madera alta</td>\n",
       "      <td>Valle de la madera</td>\n",
       "      <td>6A</td>\n",
       "      <td>0</td>\n",
       "      <td>3</td>\n",
       "      <td>10</td>\n",
       "    </tr>\n",
       "    <tr>\n",
       "      <th>9560</th>\n",
       "      <td>Stranger thank</td>\n",
       "      <td>Valle de la madera</td>\n",
       "      <td>6B</td>\n",
       "      <td>0</td>\n",
       "      <td>4</td>\n",
       "      <td>12</td>\n",
       "    </tr>\n",
       "    <tr>\n",
       "      <th>9561</th>\n",
       "      <td>Esmegma</td>\n",
       "      <td>Valle de la madera</td>\n",
       "      <td>6B</td>\n",
       "      <td>0</td>\n",
       "      <td>2</td>\n",
       "      <td>12</td>\n",
       "    </tr>\n",
       "    <tr>\n",
       "      <th>9562</th>\n",
       "      <td>Muerdesombras</td>\n",
       "      <td>Valle de la madera</td>\n",
       "      <td>7A</td>\n",
       "      <td>0</td>\n",
       "      <td>3</td>\n",
       "      <td>16</td>\n",
       "    </tr>\n",
       "  </tbody>\n",
       "</table>\n",
       "<p>9563 rows × 6 columns</p>\n",
       "</div>"
      ],
      "text/plain": [
       "                         route name         sector name grade  ascents  stars  \\\n",
       "0                    Techo Don Pepo           Cabrerizo    7A      732      4   \n",
       "1                              N.N.        Unknown Crag   6C+      595      3   \n",
       "2                         zarzamora             Parking    7B      519      4   \n",
       "3                              N.N.              Techos   6C+      513      4   \n",
       "4                        La lagrima        Arrastradero    6C      482      3   \n",
       "...                             ...                 ...   ...      ...    ...   \n",
       "9558     Placa Valle de la madera 3  Valle de la madera    6A        0      3   \n",
       "9559  Placa Valle de la madera alta  Valle de la madera    6A        0      3   \n",
       "9560                 Stranger thank  Valle de la madera    6B        0      4   \n",
       "9561                        Esmegma  Valle de la madera    6B        0      2   \n",
       "9562                  Muerdesombras  Valle de la madera    7A        0      3   \n",
       "\n",
       "      grade_num  \n",
       "0            16  \n",
       "1            15  \n",
       "2            18  \n",
       "3            15  \n",
       "4            14  \n",
       "...         ...  \n",
       "9558         10  \n",
       "9559         10  \n",
       "9560         12  \n",
       "9561         12  \n",
       "9562         16  \n",
       "\n",
       "[9563 rows x 6 columns]"
      ]
     },
     "execution_count": 130,
     "metadata": {},
     "output_type": "execute_result"
    }
   ],
   "source": [
    "# Give values to the grades\n",
    "df[\"grade_num\"] = df[\"grade\"].replace({'8B+':25,'8B':24,'8A+':23,'8A':22,'7C+':21,'7C':20,'7B+':19,'7B':18,'7A+':17,'7A':16,'6C+':15,'6C':14,'6B+':13,'6B':12,'6A+':11,'6A':10,'5C':9,'5B':8,'5A':7,'4C':6,'4B':5,'4A':4,'3C':3,'3B':2,'3A':1})\n",
    "df"
   ]
  },
  {
   "cell_type": "code",
   "execution_count": 131,
   "metadata": {},
   "outputs": [
    {
     "data": {
      "text/html": [
       "<div>\n",
       "<style scoped>\n",
       "    .dataframe tbody tr th:only-of-type {\n",
       "        vertical-align: middle;\n",
       "    }\n",
       "\n",
       "    .dataframe tbody tr th {\n",
       "        vertical-align: top;\n",
       "    }\n",
       "\n",
       "    .dataframe thead th {\n",
       "        text-align: right;\n",
       "    }\n",
       "</style>\n",
       "<table border=\"1\" class=\"dataframe\">\n",
       "  <thead>\n",
       "    <tr style=\"text-align: right;\">\n",
       "      <th></th>\n",
       "      <th>ascents</th>\n",
       "      <th>stars</th>\n",
       "      <th>grade_num</th>\n",
       "    </tr>\n",
       "  </thead>\n",
       "  <tbody>\n",
       "    <tr>\n",
       "      <th>ascents</th>\n",
       "      <td>1.000000</td>\n",
       "      <td>0.098735</td>\n",
       "      <td>0.020732</td>\n",
       "    </tr>\n",
       "    <tr>\n",
       "      <th>stars</th>\n",
       "      <td>0.098735</td>\n",
       "      <td>1.000000</td>\n",
       "      <td>0.012677</td>\n",
       "    </tr>\n",
       "    <tr>\n",
       "      <th>grade_num</th>\n",
       "      <td>0.020732</td>\n",
       "      <td>0.012677</td>\n",
       "      <td>1.000000</td>\n",
       "    </tr>\n",
       "  </tbody>\n",
       "</table>\n",
       "</div>"
      ],
      "text/plain": [
       "            ascents     stars  grade_num\n",
       "ascents    1.000000  0.098735   0.020732\n",
       "stars      0.098735  1.000000   0.012677\n",
       "grade_num  0.020732  0.012677   1.000000"
      ]
     },
     "execution_count": 131,
     "metadata": {},
     "output_type": "execute_result"
    }
   ],
   "source": [
    "df.corr()"
   ]
  },
  {
   "cell_type": "code",
   "execution_count": null,
   "metadata": {},
   "outputs": [],
   "source": [
    "# There is no correlation between the variables"
   ]
  },
  {
   "cell_type": "markdown",
   "metadata": {},
   "source": [
    "### Sectors with more routes"
   ]
  },
  {
   "cell_type": "code",
   "execution_count": 138,
   "metadata": {},
   "outputs": [
    {
     "data": {
      "text/plain": [
       "array(['Cabrerizo', 'Unknown Crag', 'Parking', 'Techos', 'Arrastradero',\n",
       "       'La fuente', 'Aeroline', 'Peninsula', 'Tierra media', 'SOL',\n",
       "       'Entre aguas', 'Psicokiller', 'Valle de la madera', 'Colmenas',\n",
       "       'Techo don pepo', 'Los techos', 'Entreaguas', 'Mezquita',\n",
       "       'Techos 2', 'Pinturas', 'Techos 1', 'Fuente',\n",
       "       'Sector Arrastradero', 'El Sol', 'La peninsula', 'Acantilados',\n",
       "       'T.Media', 'Bezas', 'Sector Cabrerizo', 'Parquing', 'Parking area',\n",
       "       'Entre Tierras', 'Loma de la tejería', 'albarracin',\n",
       "       'vicino al techos', 'El Canon', 'La Mezquita', 's.parking',\n",
       "       'Los cantilados', 's.psikokiler', 'la masia', 'Masia', 'Holzer',\n",
       "       'trave de klem', 'Harrascaderos', 'Madriles', 'terra media',\n",
       "       'madrilles', 'Dosaguas', 'Techitos', 'colmena', 'Penizula',\n",
       "       'Tierra Baja', 'Sector parking', 'Belleza', 'Penin', 'aérline',\n",
       "       'tierramedia', 'colmenas/mezquita', 'pinturas buldestres',\n",
       "       'Techos (haut)', 'Las colmenas', 'Aserradero', 'El corralito',\n",
       "       'el techo', 'Los Madriles', 'gorillaz', 'v.de la madera',\n",
       "       'Don Pepo', 'El mirador', 'Toros', 'Mirador', 'valle de madeira',\n",
       "       'PSYCO KILLER', 'CHAMPIÑONES', 'Le solitaire', 'Cabrezio',\n",
       "       'plato de sol', 'parquin', 'Pozo Celta', 'Tetos', 'T. Media',\n",
       "       'techos core', 'Sector Sol', 'Sector Peninsula', 'Psikokiler',\n",
       "       'sl', 'Parking Sector', 'Sector Techos', 'Pinturas Rupestres',\n",
       "       'Aerolin', 'Techos (callejon de los lances)', 'sargantana',\n",
       "       'Indian Secret Garden', 's.peninsula', 'Tortuga',\n",
       "       'Acanti/Valle de Madera', 'psico killer', 'Arrastr. Techos core',\n",
       "       'Arrastrad. Jacuzy', 'Arrastr. Jacuzy', 'Los acantilados',\n",
       "       'sector del sol', 'Techos (a la izq del callejon de los lances)',\n",
       "       'el sol?', 'heroes', 'El Techos', 'péninsule', 'Arastaderos',\n",
       "       'TECHOS/CAMPANA', 'Near techos', 'TECTOS', 'Parking lot', 'S.Sol',\n",
       "       'Columnas', 'arresteredo', 'HARRY POTTER', 'El portichuelo',\n",
       "       'peninsla', 'penínula', 'psikoliller', 'sycokiller',\n",
       "       'espiritu del vino', 'Mezquina', 'Terria Media', 'sektor holzers',\n",
       "       'Arasteradero', 'V.Madera', 'techos?', 'pscokiller', 'ARRASTRDERO',\n",
       "       'el cabrerizo', 'aerolina', 'sikokiler',\n",
       "       'arrastradero (techo yacutsi)',\n",
       "       'Cabrerizo (muro de piedra boulder)', 'entre arrastradero y sol',\n",
       "       'callejon de los lances', 'cabrizo', 'cabrieza', 'T#',\n",
       "       'arrastrapedo', 'Tecchos', 'loskot', 'arrastraero', 'Arrasteredo',\n",
       "       'Arrastrader', 'Dos Caras', 'Heini Holzer', 'Bergerie',\n",
       "       'Techno Don Pepo', 'Psichothiller', 's', 'dado',\n",
       "       'Sol-arrastradero', 'Psikiller', 'Colmenero', 'terria y media',\n",
       "       'enyre aguas', 'Varandas', 'La franja', 'S. Techos',\n",
       "       'callejon de los lances (techos)', 'cabrirezo', 'psico',\n",
       "       'Zatoichi', 'aerolain', 'Arrastradero \"Solarium\"',\n",
       "       'Arrastradero \"La Lágrima\"', 'Techos \"Bloque 22\"',\n",
       "       'Arrastradero \"Bloque 22\"', 'Arrastradero \"Bloque 55\"',\n",
       "       'Techos \"Gorillaz\"', 'La Fuente \"Bloque 11\"',\n",
       "       'Península \"Bloque 9\"', 'entrre aguas', 'entre dos aguas',\n",
       "       'V,madera', 'Entre aqua', 'techo don peppo', 'plaza arrastradero',\n",
       "       'sector parquin', 'Cabrerisa', 'arastrado', 'Tercho',\n",
       "       'Albarrasintra / Meca', 'arrastra', 'tekos', 'Monguis',\n",
       "       'Astradero', 'Le Parking', 'pais de las bicicletas', 't don pepo',\n",
       "       'cabrizero', 'Fikahyllan', 'Nuevos', 'Bola de Dragón',\n",
       "       'Zombie Nation', 'Arrastarero', 'psicoquiler', 'Arrastra Adero',\n",
       "       'Valle de la madera - Parte baja', 'Parking/Aeroline',\n",
       "       'Mezquita/Colmenas', 'ENA-B13-L3', 'valle de la madeira',\n",
       "       'entre aguas (beleza)', 'beleza', 'Psicoblock', 'airolain',\n",
       "       'Arrastarninsula', 'tierras bajas', 'placeta', 'entre tierra',\n",
       "       'Dinopolis', 'Arrastr.', 'Entreaquas', 'Tierra Media/bloque14',\n",
       "       'Parking/Bloque1', 'Paking', 'bloc 12 n°a',\n",
       "       'Arrastrad. Techos core', 'Pk. Aeroline', 'Arrastrad. Techis core',\n",
       "       'Entreaquas Bloque', 'Reseña', 'Bezas los callejones', 'Mesquita',\n",
       "       'Bezas - El Barco', 'La Senda', 'La colina', 'Lomo de la tejeria',\n",
       "       'Caberizio', 'Bezas pozo celta', 'Bezas: El Barco', 'Tierra',\n",
       "       'tejeria', \"Core's roof\", 'los titiriteros', 'Bezaa', 'Thecos',\n",
       "       'Colenas/Mezquita', 'Fuenta'], dtype=object)"
      ]
     },
     "execution_count": 138,
     "metadata": {},
     "output_type": "execute_result"
    }
   ],
   "source": [
    "df[\"sector name\"].unique()"
   ]
  },
  {
   "cell_type": "code",
   "execution_count": 139,
   "metadata": {},
   "outputs": [],
   "source": [
    "df = df[df[\"sector name\"] != \"Unknown Crag\"]"
   ]
  },
  {
   "cell_type": "code",
   "execution_count": 140,
   "metadata": {},
   "outputs": [
    {
     "data": {
      "text/plain": [
       "<seaborn.axisgrid.FacetGrid at 0x28998368100>"
      ]
     },
     "execution_count": 140,
     "metadata": {},
     "output_type": "execute_result"
    },
    {
     "data": {
      "image/png": "[encoded data removed]",
      "text/plain": [
       "<Figure size 1008x504 with 1 Axes>"
      ]
     },
     "metadata": {
      "needs_background": "light"
     },
     "output_type": "display_data"
    }
   ],
   "source": [
    "g=sns.catplot(x=\"sector name\", kind=\"count\", palette=\"PuBu\", data=df, order=df[\"sector name\"].value_counts().iloc[:10].index, height=7, aspect=2)\n",
    "g.set_xticklabels(rotation=45)\n"
   ]
  },
  {
   "cell_type": "code",
   "execution_count": null,
   "metadata": {},
   "outputs": [],
   "source": [
    "# The sector with the more routes is Arrastradero, this could be resposible for the popularity of this sector"
   ]
  },
  {
   "cell_type": "markdown",
   "metadata": {},
   "source": [
    "### Predominant grade in Albarracin"
   ]
  },
  {
   "cell_type": "code",
   "execution_count": 141,
   "metadata": {},
   "outputs": [
    {
     "data": {
      "text/plain": [
       "array(['7A', '7B', '6C+', '6C', '7A+', '7C+', '6B+', '7B+', '7C', '6B',\n",
       "       '6A+', '8A', '6A', '5C', '8A+', '4C', '4B', '3B', '5B', '5A', '4A',\n",
       "       '3A', '8B', '3C', '8B+'], dtype=object)"
      ]
     },
     "execution_count": 141,
     "metadata": {},
     "output_type": "execute_result"
    }
   ],
   "source": [
    "df[\"grade\"].unique()"
   ]
  },
  {
   "cell_type": "code",
   "execution_count": 142,
   "metadata": {},
   "outputs": [
    {
     "data": {
      "text/html": [
       "<div>\n",
       "<style scoped>\n",
       "    .dataframe tbody tr th:only-of-type {\n",
       "        vertical-align: middle;\n",
       "    }\n",
       "\n",
       "    .dataframe tbody tr th {\n",
       "        vertical-align: top;\n",
       "    }\n",
       "\n",
       "    .dataframe thead th {\n",
       "        text-align: right;\n",
       "    }\n",
       "</style>\n",
       "<table border=\"1\" class=\"dataframe\">\n",
       "  <thead>\n",
       "    <tr style=\"text-align: right;\">\n",
       "      <th></th>\n",
       "      <th>route name</th>\n",
       "      <th>sector name</th>\n",
       "      <th>grade</th>\n",
       "      <th>ascents</th>\n",
       "      <th>stars</th>\n",
       "      <th>grade_num</th>\n",
       "    </tr>\n",
       "  </thead>\n",
       "  <tbody>\n",
       "    <tr>\n",
       "      <th>7825</th>\n",
       "      <td>TEC-B18_L4</td>\n",
       "      <td>Techos</td>\n",
       "      <td>3A</td>\n",
       "      <td>1</td>\n",
       "      <td>1</td>\n",
       "      <td>1</td>\n",
       "    </tr>\n",
       "    <tr>\n",
       "      <th>2999</th>\n",
       "      <td>¡Qué agustin!</td>\n",
       "      <td>Cabrerizo</td>\n",
       "      <td>3A</td>\n",
       "      <td>2</td>\n",
       "      <td>0</td>\n",
       "      <td>1</td>\n",
       "    </tr>\n",
       "    <tr>\n",
       "      <th>6002</th>\n",
       "      <td>N.N. (5b)</td>\n",
       "      <td>Peninsula</td>\n",
       "      <td>3A</td>\n",
       "      <td>1</td>\n",
       "      <td>5</td>\n",
       "      <td>1</td>\n",
       "    </tr>\n",
       "    <tr>\n",
       "      <th>5056</th>\n",
       "      <td>N.N. (bloque 1e)</td>\n",
       "      <td>Masia</td>\n",
       "      <td>3A</td>\n",
       "      <td>1</td>\n",
       "      <td>0</td>\n",
       "      <td>1</td>\n",
       "    </tr>\n",
       "    <tr>\n",
       "      <th>5843</th>\n",
       "      <td>Bulder 43-E</td>\n",
       "      <td>Arrastradero</td>\n",
       "      <td>3A</td>\n",
       "      <td>1</td>\n",
       "      <td>5</td>\n",
       "      <td>1</td>\n",
       "    </tr>\n",
       "    <tr>\n",
       "      <th>...</th>\n",
       "      <td>...</td>\n",
       "      <td>...</td>\n",
       "      <td>...</td>\n",
       "      <td>...</td>\n",
       "      <td>...</td>\n",
       "      <td>...</td>\n",
       "    </tr>\n",
       "    <tr>\n",
       "      <th>1703</th>\n",
       "      <td>The indian secret garden</td>\n",
       "      <td>Mezquita</td>\n",
       "      <td>8B</td>\n",
       "      <td>4</td>\n",
       "      <td>2</td>\n",
       "      <td>24</td>\n",
       "    </tr>\n",
       "    <tr>\n",
       "      <th>979</th>\n",
       "      <td>mufasa</td>\n",
       "      <td>Fuente</td>\n",
       "      <td>8B</td>\n",
       "      <td>9</td>\n",
       "      <td>3</td>\n",
       "      <td>24</td>\n",
       "    </tr>\n",
       "    <tr>\n",
       "      <th>1588</th>\n",
       "      <td>The indian secret garden</td>\n",
       "      <td>Mezquita</td>\n",
       "      <td>8B</td>\n",
       "      <td>4</td>\n",
       "      <td>0</td>\n",
       "      <td>24</td>\n",
       "    </tr>\n",
       "    <tr>\n",
       "      <th>1260</th>\n",
       "      <td>The call of silence</td>\n",
       "      <td>Arrastradero</td>\n",
       "      <td>8B</td>\n",
       "      <td>6</td>\n",
       "      <td>3</td>\n",
       "      <td>24</td>\n",
       "    </tr>\n",
       "    <tr>\n",
       "      <th>3247</th>\n",
       "      <td>La Teoria del Todo</td>\n",
       "      <td>Tierra media</td>\n",
       "      <td>8B+</td>\n",
       "      <td>2</td>\n",
       "      <td>3</td>\n",
       "      <td>25</td>\n",
       "    </tr>\n",
       "  </tbody>\n",
       "</table>\n",
       "<p>7341 rows × 6 columns</p>\n",
       "</div>"
      ],
      "text/plain": [
       "                    route name   sector name grade  ascents  stars  grade_num\n",
       "7825                TEC-B18_L4        Techos    3A        1      1          1\n",
       "2999             ¡Qué agustin!     Cabrerizo    3A        2      0          1\n",
       "6002                 N.N. (5b)     Peninsula    3A        1      5          1\n",
       "5056          N.N. (bloque 1e)         Masia    3A        1      0          1\n",
       "5843               Bulder 43-E  Arrastradero    3A        1      5          1\n",
       "...                        ...           ...   ...      ...    ...        ...\n",
       "1703  The indian secret garden      Mezquita    8B        4      2         24\n",
       "979                     mufasa        Fuente    8B        9      3         24\n",
       "1588  The indian secret garden      Mezquita    8B        4      0         24\n",
       "1260       The call of silence  Arrastradero    8B        6      3         24\n",
       "3247        La Teoria del Todo  Tierra media   8B+        2      3         25\n",
       "\n",
       "[7341 rows x 6 columns]"
      ]
     },
     "execution_count": 142,
     "metadata": {},
     "output_type": "execute_result"
    }
   ],
   "source": [
    "pd.Categorical(df['grade'],categories=['8B+','8B','8A+','8A','7C+','7C','7B+','7B','7A+','7A','6C+','6C','6B+','6B','6A+','6A','5C','5B','5A','4C','4B','4A','3C','3B','3A' ],ordered=True)\n",
    "df = df.sort_values('grade',ascending=True)\n",
    "df"
   ]
  },
  {
   "cell_type": "code",
   "execution_count": 143,
   "metadata": {},
   "outputs": [
    {
     "data": {
      "text/plain": [
       "<matplotlib.axes._subplots.AxesSubplot at 0x28998302190>"
      ]
     },
     "execution_count": 143,
     "metadata": {},
     "output_type": "execute_result"
    },
    {
     "data": {
      "image/png": "[encoded data removed]",
      "text/plain": [
       "<Figure size 864x576 with 1 Axes>"
      ]
     },
     "metadata": {
      "needs_background": "light"
     },
     "output_type": "display_data"
    }
   ],
   "source": [
    "plt.figure(figsize=(12,8))\n",
    "sns.countplot(x ='grade', data = df, palette=\"PuBu\")"
   ]
  },
  {
   "cell_type": "code",
   "execution_count": null,
   "metadata": {},
   "outputs": [],
   "source": [
    "# The predominant grade is 7A"
   ]
  },
  {
   "cell_type": "markdown",
   "metadata": {},
   "source": [
    "### Predominant grade in each sector"
   ]
  },
  {
   "cell_type": "code",
   "execution_count": 160,
   "metadata": {},
   "outputs": [
    {
     "data": {
      "text/plain": [
       "<matplotlib.legend.Legend at 0x2899d56e550>"
      ]
     },
     "execution_count": 160,
     "metadata": {},
     "output_type": "execute_result"
    },
    {
     "data": {
      "image/png": "[encoded data removed]",
      "text/plain": [
       "<Figure size 1440x576 with 1 Axes>"
      ]
     },
     "metadata": {
      "needs_background": "light"
     },
     "output_type": "display_data"
    }
   ],
   "source": [
    "plt.figure(figsize=(20,8))\n",
    "sns.countplot(x=\"sector name\",hue=\"grade_num\", palette=\"PuBu\", data=df, order=df[\"sector name\"].value_counts().iloc[:10].index)\n",
    "g.set_xticklabels(rotation=45)\n",
    "plt.legend(loc=\"upper right\", ncol=2)\n"
   ]
  },
  {
   "cell_type": "code",
   "execution_count": null,
   "metadata": {},
   "outputs": [],
   "source": [
    "# The predominant grades are the ones that are not very low nor vey high, we can observe also the number of boulders in each sector."
   ]
  },
  {
   "cell_type": "markdown",
   "metadata": {},
   "source": [
    "### Sector with the highers stars"
   ]
  },
  {
   "cell_type": "code",
   "execution_count": 145,
   "metadata": {},
   "outputs": [
    {
     "data": {
      "text/plain": [
       "<seaborn.axisgrid.FacetGrid at 0x28999e80dc0>"
      ]
     },
     "execution_count": 145,
     "metadata": {},
     "output_type": "execute_result"
    },
    {
     "data": {
      "image/png": "[encoded data removed]",
      "text/plain": [
       "<Figure size 1008x504 with 1 Axes>"
      ]
     },
     "metadata": {
      "needs_background": "light"
     },
     "output_type": "display_data"
    }
   ],
   "source": [
    "sns.catplot(x=\"sector name\", y=\"stars\", kind=\"bar\",palette=\"PuBu\", data=df, order=df[\"sector name\"].value_counts().iloc[:10].index, height=7, aspect=2)"
   ]
  },
  {
   "cell_type": "code",
   "execution_count": null,
   "metadata": {},
   "outputs": [],
   "source": [
    "# Almost all the sectors have the same calification"
   ]
  },
  {
   "cell_type": "markdown",
   "metadata": {},
   "source": [
    "### Grade with the highers stars"
   ]
  },
  {
   "cell_type": "code",
   "execution_count": 147,
   "metadata": {},
   "outputs": [
    {
     "data": {
      "text/plain": [
       "<seaborn.axisgrid.FacetGrid at 0x28999216340>"
      ]
     },
     "execution_count": 147,
     "metadata": {},
     "output_type": "execute_result"
    },
    {
     "data": {
      "image/png": "[encoded data removed]",
      "text/plain": [
       "<Figure size 1008x504 with 1 Axes>"
      ]
     },
     "metadata": {
      "needs_background": "light"
     },
     "output_type": "display_data"
    }
   ],
   "source": [
    "sns.catplot(x=\"grade\", y=\"stars\", kind=\"bar\",palette=\"PuBu\", data=df, height=7, aspect=2)"
   ]
  },
  {
   "cell_type": "code",
   "execution_count": null,
   "metadata": {},
   "outputs": [],
   "source": [
    "# The highest stars are for the more lower and more higher grades"
   ]
  }
 ],
 "metadata": {
  "kernelspec": {
   "display_name": "Python 3",
   "language": "python",
   "name": "python3"
  },
  "language_info": {
   "codemirror_mode": {
    "name": "ipython",
    "version": 3
   },
   "file_extension": ".py",
   "mimetype": "text/x-python",
   "name": "python",
   "nbconvert_exporter": "python",
   "pygments_lexer": "ipython3",
   "version": "3.8.3"
  }
 },
 "nbformat": 4,
 "nbformat_minor": 4
}
