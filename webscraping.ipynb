{
 "cells": [
  {
   "cell_type": "code",
   "execution_count": null,
   "metadata": {},
   "outputs": [],
   "source": [
    "# import libraries\n",
    "from selenium import webdriver\n",
    "from selenium.webdriver.common.keys import Keys\n",
    "import pandas as pd \n",
    "from selenium import webdriver\n",
    "from webdriver_manager.chrome import ChromeDriverManager\n",
    "import requests, time, selenium  \n",
    "from selenium import webdriver\n",
    "from selenium.webdriver.support.select import Select"
   ]
  },
  {
   "cell_type": "markdown",
   "metadata": {},
   "source": [
    "# Webscraping"
   ]
  },
  {
   "cell_type": "code",
   "execution_count": null,
   "metadata": {},
   "outputs": [],
   "source": [
    "# Scraping of albarracin\n",
    "\n",
    "DRIVER_PATH=\"C:/Escritorio/chromedriver\"\n",
    "driver=webdriver.Chrome(ChromeDriverManager().install())\n",
    "driver.get(\"https://www.8a.nu/es/areas/spain/albarracin/bouldering\")"
   ]
  },
  {
   "cell_type": "code",
   "execution_count": null,
   "metadata": {},
   "outputs": [],
   "source": [
    "# Scraping of Rodellar\n",
    "\n",
    "DRIVER_PATH=\"C:/Escritorio/chromedriver\"\n",
    "driver=webdriver.Chrome(ChromeDriverManager().install())\n",
    "driver.get(\"https://www.8a.nu/crags/sportclimbing/spain/rodellar/routes\")"
   ]
  },
  {
   "cell_type": "code",
   "execution_count": null,
   "metadata": {},
   "outputs": [],
   "source": [
    "# Scraping of Cuenca\n",
    "\n",
    "DRIVER_PATH=\"C:/Escritorio/chromedriver\"\n",
    "driver=webdriver.Chrome(ChromeDriverManager().install())\n",
    "driver.get(\"https://www.8a.nu/crags/sportclimbing/spain/cuenca/routes\")"
   ]
  },
  {
   "cell_type": "code",
   "execution_count": null,
   "metadata": {},
   "outputs": [],
   "source": [
    "# Scraping of Chulilla\n",
    "\n",
    "DRIVER_PATH=\"C:/Escritorio/chromedriver\"\n",
    "driver=webdriver.Chrome(ChromeDriverManager().install())\n",
    "driver.get(\"https://www.8a.nu/crags/sportclimbing/spain/chulilla/routes\")"
   ]
  },
  {
   "cell_type": "code",
   "execution_count": null,
   "metadata": {},
   "outputs": [],
   "source": [
    "# Scraping of La Pedriza rope\n",
    "\n",
    "DRIVER_PATH=\"C:/Escritorio/chromedriver\"\n",
    "driver=webdriver.Chrome(ChromeDriverManager().install())\n",
    "driver.get(\"https://www.8a.nu/crags/sportclimbing/spain/la-pedriza/routes\")"
   ]
  },
  {
   "cell_type": "code",
   "execution_count": null,
   "metadata": {},
   "outputs": [],
   "source": [
    "# Scraping of La Pedriza boulder\n",
    "\n",
    "DRIVER_PATH=\"C:/Escritorio/chromedriver\"\n",
    "driver=webdriver.Chrome(ChromeDriverManager().install())\n",
    "driver.get(\"https://www.8a.nu/crags/bouldering/spain/la-pedriza/routes\")"
   ]
  },
  {
   "cell_type": "code",
   "execution_count": null,
   "metadata": {},
   "outputs": [],
   "source": [
    "# Scraping of Patones\n",
    "\n",
    "DRIVER_PATH=\"C:/Escritorio/chromedriver\"\n",
    "driver=webdriver.Chrome(ChromeDriverManager().install())\n",
    "driver.get(\"https://www.8a.nu/crags/sportclimbing/spain/patones/routes\")"
   ]
  },
  {
   "cell_type": "code",
   "execution_count": null,
   "metadata": {},
   "outputs": [],
   "source": [
    "# Scraping of San Martín de Valdeiglesias\n",
    "\n",
    "DRIVER_PATH=\"C:/Escritorio/chromedriver\"\n",
    "driver=webdriver.Chrome(ChromeDriverManager().install())\n",
    "driver.get(\"https://www.8a.nu/crags/sportclimbing/spain/san-martin-de-valdeiglesias/routes\")"
   ]
  },
  {
   "cell_type": "code",
   "execution_count": null,
   "metadata": {},
   "outputs": [],
   "source": [
    "# Scraping of Navalosa\n",
    "\n",
    "DRIVER_PATH=\"C:/Escritorio/chromedriver\"\n",
    "driver=webdriver.Chrome(ChromeDriverManager().install())\n",
    "driver.get(\"https://www.8a.nu/crags/bouldering/spain/navalosa/routes\")"
   ]
  },
  {
   "cell_type": "code",
   "execution_count": null,
   "metadata": {},
   "outputs": [],
   "source": [
    "# Scraping of El Vellón\n",
    "\n",
    "DRIVER_PATH=\"C:/Escritorio/chromedriver\"\n",
    "driver=webdriver.Chrome(ChromeDriverManager().install())\n",
    "driver.get(\"https://www.8a.nu/crags/sportclimbing/spain/el-vellon/routes\")"
   ]
  },
  {
   "cell_type": "code",
   "execution_count": null,
   "metadata": {},
   "outputs": [],
   "source": [
    "# Scraping of Santa Linya\n",
    "\n",
    "DRIVER_PATH=\"C:/Escritorio/chromedriver\"\n",
    "driver=webdriver.Chrome(ChromeDriverManager().install())\n",
    "driver.get(\"https://www.8a.nu/crags/sportclimbing/spain/santa-linya/routes\")"
   ]
  },
  {
   "cell_type": "code",
   "execution_count": null,
   "metadata": {},
   "outputs": [],
   "source": [
    "# Scraping of Margalef\n",
    "\n",
    "DRIVER_PATH=\"C:/Escritorio/chromedriver\"\n",
    "driver=webdriver.Chrome(ChromeDriverManager().install())\n",
    "driver.get(\"https://www.8a.nu/areas/spain/margalef/sportclimbing\")"
   ]
  },
  {
   "cell_type": "code",
   "execution_count": null,
   "metadata": {},
   "outputs": [],
   "source": [
    "# Scraping of El Chorro\n",
    "\n",
    "DRIVER_PATH=\"C:/Escritorio/chromedriver\"\n",
    "driver=webdriver.Chrome(ChromeDriverManager().install())\n",
    "driver.get(\"https://www.8a.nu/crags/sportclimbing/spain/el-chorro/routes\")"
   ]
  },
  {
   "cell_type": "code",
   "execution_count": null,
   "metadata": {},
   "outputs": [],
   "source": [
    "# Scraping of Mallorca\n",
    "\n",
    "DRIVER_PATH=\"C:/Escritorio/chromedriver\"\n",
    "driver=webdriver.Chrome(ChromeDriverManager().install())\n",
    "driver.get(\"https://www.8a.nu/crags/sportclimbing/spain/mallorca-d4eff-verrev/routes\")"
   ]
  },
  {
   "cell_type": "code",
   "execution_count": null,
   "metadata": {},
   "outputs": [],
   "source": [
    "# Scraping of Valdegobia\n",
    "\n",
    "DRIVER_PATH=\"C:/Escritorio/chromedriver\"\n",
    "driver=webdriver.Chrome(ChromeDriverManager().install())\n",
    "driver.get(\"https://www.8a.nu/crags/sportclimbing/spain/valdegobia/routes\")"
   ]
  },
  {
   "cell_type": "code",
   "execution_count": null,
   "metadata": {},
   "outputs": [],
   "source": [
    "# Scraping of Gandía\n",
    "\n",
    "DRIVER_PATH=\"C:/Escritorio/chromedriver\"\n",
    "driver=webdriver.Chrome(ChromeDriverManager().install())\n",
    "driver.get(\"https://www.8a.nu/crags/sportclimbing/spain/gandia/routes\")"
   ]
  },
  {
   "cell_type": "code",
   "execution_count": null,
   "metadata": {},
   "outputs": [],
   "source": [
    "# Scraping of Teverga\n",
    "\n",
    "DRIVER_PATH=\"C:/Escritorio/chromedriver\"\n",
    "driver=webdriver.Chrome(ChromeDriverManager().install())\n",
    "driver.get(\"https://www.8a.nu/crags/sportclimbing/spain/teverga/routes\")"
   ]
  },
  {
   "cell_type": "code",
   "execution_count": null,
   "metadata": {},
   "outputs": [],
   "source": [
    "# Scraping of El Escorial\n",
    "\n",
    "DRIVER_PATH=\"C:/Escritorio/chromedriver\"\n",
    "driver=webdriver.Chrome(ChromeDriverManager().install())\n",
    "driver.get(\"https://www.8a.nu/crags/bouldering/spain/el-escorial/routes\")"
   ]
  },
  {
   "cell_type": "code",
   "execution_count": null,
   "metadata": {},
   "outputs": [],
   "source": [
    "# Scraping of Zarzalejo\n",
    "\n",
    "DRIVER_PATH=\"C:/Escritorio/chromedriver\"\n",
    "driver=webdriver.Chrome(ChromeDriverManager().install())\n",
    "driver.get(\"https://www.8a.nu/crags/bouldering/spain/zarzalejo/routes\")"
   ]
  },
  {
   "cell_type": "code",
   "execution_count": null,
   "metadata": {},
   "outputs": [],
   "source": [
    "# Scraping of Hoyamoros\n",
    "\n",
    "DRIVER_PATH=\"C:/Escritorio/chromedriver\"\n",
    "driver=webdriver.Chrome(ChromeDriverManager().install())\n",
    "driver.get(\"https://www.8a.nu/crags/bouldering/spain/hoya-moros/routes\")"
   ]
  },
  {
   "cell_type": "code",
   "execution_count": null,
   "metadata": {},
   "outputs": [],
   "source": [
    "# Scraping of Santa Gadea\n",
    "\n",
    "DRIVER_PATH=\"C:/Escritorio/chromedriver\"\n",
    "driver=webdriver.Chrome(ChromeDriverManager().install())\n",
    "driver.get(\"https://www.8a.nu/crags/bouldering/spain/santa-gadea/routes\")"
   ]
  },
  {
   "cell_type": "code",
   "execution_count": null,
   "metadata": {},
   "outputs": [],
   "source": [
    "# Scraping of Tamajón\n",
    "\n",
    "DRIVER_PATH=\"C:/Escritorio/chromedriver\"\n",
    "driver=webdriver.Chrome(ChromeDriverManager().install())\n",
    "driver.get(\"https://www.8a.nu/crags/bouldering/spain/tamajon/routes\")"
   ]
  },
  {
   "cell_type": "code",
   "execution_count": null,
   "metadata": {},
   "outputs": [],
   "source": [
    "# Scraping of La Cabrera\n",
    "\n",
    "DRIVER_PATH=\"C:/Escritorio/chromedriver\"\n",
    "driver=webdriver.Chrome(ChromeDriverManager().install())\n",
    "driver.get(\"https://www.8a.nu/crags/bouldering/spain/la-cabrera/routes\")"
   ]
  },
  {
   "cell_type": "code",
   "execution_count": null,
   "metadata": {},
   "outputs": [],
   "source": [
    "# Scraping of Burguillo\n",
    "\n",
    "DRIVER_PATH=\"C:/Escritorio/chromedriver\"\n",
    "driver=webdriver.Chrome(ChromeDriverManager().install())\n",
    "driver.get(\"https://www.8a.nu/crags/bouldering/spain/burguillo/routes\")"
   ]
  },
  {
   "cell_type": "code",
   "execution_count": null,
   "metadata": {},
   "outputs": [],
   "source": [
    "# Scraping of Valdesangil\n",
    "\n",
    "DRIVER_PATH=\"C:/Escritorio/chromedriver\"\n",
    "driver=webdriver.Chrome(ChromeDriverManager().install())\n",
    "driver.get(\"https://www.8a.nu/crags/bouldering/spain/valdesangil/routes\")"
   ]
  },
  {
   "cell_type": "code",
   "execution_count": null,
   "metadata": {},
   "outputs": [],
   "source": [
    "# Scraping of Torrelodones\n",
    "\n",
    "DRIVER_PATH=\"C:/Escritorio/chromedriver\"\n",
    "driver=webdriver.Chrome(ChromeDriverManager().install())\n",
    "driver.get(\"https://www.8a.nu/crags/bouldering/spain/torrelodones/routes\")"
   ]
  },
  {
   "cell_type": "code",
   "execution_count": null,
   "metadata": {},
   "outputs": [],
   "source": [
    "# Scraping of Candelario\n",
    "\n",
    "DRIVER_PATH=\"C:/Escritorio/chromedriver\"\n",
    "driver=webdriver.Chrome(ChromeDriverManager().install())\n",
    "driver.get(\"https://www.8a.nu/crags/bouldering/spain/candelario/routes\")"
   ]
  },
  {
   "cell_type": "code",
   "execution_count": null,
   "metadata": {},
   "outputs": [],
   "source": [
    "# Scraping of Villanueva del Rosario\n",
    "\n",
    "DRIVER_PATH=\"C:/Escritorio/chromedriver\"\n",
    "driver=webdriver.Chrome(ChromeDriverManager().install())\n",
    "driver.get(\"https://www.8a.nu/crags/bouldering/spain/villanueva-del-rosario/routes\")"
   ]
  },
  {
   "cell_type": "code",
   "execution_count": null,
   "metadata": {},
   "outputs": [],
   "source": [
    "# Scraping of Los Barruecos\n",
    "\n",
    "DRIVER_PATH=\"C:/Escritorio/chromedriver\"\n",
    "driver=webdriver.Chrome(ChromeDriverManager().install())\n",
    "driver.get(\"https://www.8a.nu/crags/bouldering/spain/barruecos/routes\")"
   ]
  },
  {
   "cell_type": "code",
   "execution_count": null,
   "metadata": {},
   "outputs": [],
   "source": [
    "# Scraping of Peñas Blancas\n",
    "\n",
    "DRIVER_PATH=\"C:/Escritorio/chromedriver\"\n",
    "driver=webdriver.Chrome(ChromeDriverManager().install())\n",
    "driver.get(\"https://www.8a.nu/crags/bouldering/spain/penas-blancas/routes\")"
   ]
  },
  {
   "cell_type": "code",
   "execution_count": null,
   "metadata": {},
   "outputs": [],
   "source": [
    "# Scraping of La Hermida\n",
    "\n",
    "DRIVER_PATH=\"C:/Escritorio/chromedriver\"\n",
    "driver=webdriver.Chrome(ChromeDriverManager().install())\n",
    "driver.get(\"https://www.8a.nu/crags/sportclimbing/spain/la-hermida/routes\")"
   ]
  },
  {
   "cell_type": "code",
   "execution_count": null,
   "metadata": {},
   "outputs": [],
   "source": [
    "# Scraping of Valeria\n",
    "\n",
    "DRIVER_PATH=\"C:/Escritorio/chromedriver\"\n",
    "driver=webdriver.Chrome(ChromeDriverManager().install())\n",
    "driver.get(\"https://www.8a.nu/crags/sportclimbing/spain/valeria/routes\")"
   ]
  },
  {
   "cell_type": "code",
   "execution_count": null,
   "metadata": {},
   "outputs": [],
   "source": [
    "# Scraping of Entrepeñas\n",
    "\n",
    "DRIVER_PATH=\"C:/Escritorio/chromedriver\"\n",
    "driver=webdriver.Chrome(ChromeDriverManager().install())\n",
    "driver.get(\"https://www.8a.nu/crags/sportclimbing/spain/entrepenas/routes\")"
   ]
  },
  {
   "cell_type": "code",
   "execution_count": null,
   "metadata": {},
   "outputs": [],
   "source": [
    "# Scraping of Reguchillo\n",
    "\n",
    "DRIVER_PATH=\"C:/Escritorio/chromedriver\"\n",
    "driver=webdriver.Chrome(ChromeDriverManager().install())\n",
    "driver.get(\"https://www.8a.nu/crags/sportclimbing/spain/reguchillo/routes\")"
   ]
  },
  {
   "cell_type": "code",
   "execution_count": null,
   "metadata": {},
   "outputs": [],
   "source": [
    "# Scraping of Olba\n",
    "\n",
    "DRIVER_PATH=\"C:/Escritorio/chromedriver\"\n",
    "driver=webdriver.Chrome(ChromeDriverManager().install())\n",
    "driver.get(\"https://www.8a.nu/crags/sportclimbing/spain/olba/routes\")"
   ]
  },
  {
   "cell_type": "code",
   "execution_count": null,
   "metadata": {},
   "outputs": [],
   "source": [
    "# Scraping of Barranco del Fin del Mundo\n",
    "\n",
    "DRIVER_PATH=\"C:/Escritorio/chromedriver\"\n",
    "driver=webdriver.Chrome(ChromeDriverManager().install())\n",
    "driver.get(\"https://www.8a.nu/crags/sportclimbing/spain/fin-del-mundo/routes\")"
   ]
  },
  {
   "cell_type": "code",
   "execution_count": null,
   "metadata": {},
   "outputs": [],
   "source": [
    "# Scraping of Quiros\n",
    "\n",
    "DRIVER_PATH=\"C:/Escritorio/chromedriver\"\n",
    "driver=webdriver.Chrome(ChromeDriverManager().install())\n",
    "driver.get(\"https://www.8a.nu/crags/sportclimbing/spain/quiros/routes\")"
   ]
  },
  {
   "cell_type": "code",
   "execution_count": null,
   "metadata": {},
   "outputs": [],
   "source": [
    "# Scraping of Riglos\n",
    "\n",
    "DRIVER_PATH=\"C:/Escritorio/chromedriver\"\n",
    "driver=webdriver.Chrome(ChromeDriverManager().install())\n",
    "driver.get(\"https://www.8a.nu/crags/sportclimbing/spain/riglos/routes\")"
   ]
  },
  {
   "cell_type": "code",
   "execution_count": null,
   "metadata": {},
   "outputs": [],
   "source": [
    "# Scraping of Rozas\n",
    "\n",
    "DRIVER_PATH=\"C:/Escritorio/chromedriver\"\n",
    "driver=webdriver.Chrome(ChromeDriverManager().install())\n",
    "driver.get(\"https://www.8a.nu/crags/bouldering/spain/rozas/routes\")"
   ]
  },
  {
   "cell_type": "markdown",
   "metadata": {},
   "source": [
    "# Webscraping each page"
   ]
  },
  {
   "cell_type": "code",
   "execution_count": null,
   "metadata": {},
   "outputs": [],
   "source": [
    "pages=1\n",
    "route_list = []\n",
    "sector_list=[]\n",
    "grade_list=[]\n",
    "ascents_list=[]\n",
    "star_count_list=[]"
   ]
  },
  {
   "cell_type": "code",
   "execution_count": null,
   "metadata": {},
   "outputs": [],
   "source": [
    "while True:\n",
    "    route_name = driver.find_elements_by_xpath('//p[@class=\"name-link\"]')\n",
    "    if route_name:\n",
    "        sector_name = driver.find_elements_by_xpath('//p[@class=\"sub-link\"]/descendant::a[1]')\n",
    "        grade_name = driver.find_elements_by_xpath('//div[@class=\"grade\"]')\n",
    "        ascent = driver.find_elements_by_css_selector('td.col-ascents.number')\n",
    "        ratingcolumn = driver.find_elements_by_css_selector('td.col-rating.text-center.tablet-hide')\n",
    "        for p in range(len(route_name)):\n",
    "            route_list.append(route_name[p].text)\n",
    "            sector_list.append(sector_name[p].text)\n",
    "            grade_list.append(grade_name[p].text)    \n",
    "            ascents_list.append(ascent[p].text)\n",
    "        for row in ratingcolumn:\n",
    "            stars = row.find_elements_by_css_selector('td.col-rating.text-center.tablet-hide div.star-rating label svg[style=\"fill: rgb(42, 42, 47);\"]')\n",
    "            star_count_list.append(len(stars))\n",
    "        time.sleep(1)\n",
    "        nxt=driver.find_element_by_css_selector('ul.pagination.c-pagination li:last-child>a[tabindex=\"0\"]')\n",
    "        nxt.click()\n",
    "        time.sleep(1)\n",
    "    else:\n",
    "        break"
   ]
  },
  {
   "cell_type": "code",
   "execution_count": null,
   "metadata": {},
   "outputs": [],
   "source": [
    "while True:\n",
    "    route_name = driver.find_elements_by_xpath('//p[@class=\"name-link\"]')\n",
    "    if route_name:\n",
    "        sector_name = driver.find_elements_by_xpath('//p[@class=\"sub-link\"]/descendant::a[2]')\n",
    "        grade_name = driver.find_elements_by_xpath('//div[@class=\"grade\"]')\n",
    "        ascent = driver.find_elements_by_css_selector('td.col-ascents.number')\n",
    "        ratingcolumn = driver.find_elements_by_css_selector('td.col-rating.text-center.tablet-hide')\n",
    "        for p in range(len(route_name)):\n",
    "            route_list.append(route_name[p].text)\n",
    "            sector_list.append(sector_name[p].text)\n",
    "            grade_list.append(grade_name[p].text)    \n",
    "            ascents_list.append(ascent[p].text)\n",
    "        for row in ratingcolumn:\n",
    "            stars = row.find_elements_by_css_selector('td.col-rating.text-center.tablet-hide div.star-rating label svg[style=\"fill: rgb(42, 42, 47);\"]')\n",
    "            star_count_list.append(len(stars))\n",
    "        time.sleep(1)\n",
    "        nxt=driver.find_element_by_css_selector('ul.pagination.c-pagination li:last-child>a[tabindex=\"0\"]')\n",
    "        nxt.click()\n",
    "        time.sleep(1)\n",
    "    else:\n",
    "        break"
   ]
  },
  {
   "cell_type": "markdown",
   "metadata": {},
   "source": [
    "# Create Pandas DataFrame"
   ]
  },
  {
   "cell_type": "code",
   "execution_count": null,
   "metadata": {},
   "outputs": [],
   "source": [
    "lst_all=[]"
   ]
  },
  {
   "cell_type": "code",
   "execution_count": null,
   "metadata": {},
   "outputs": [],
   "source": [
    "# Join in a dictionary all the features\n",
    "\n",
    "for i,j,k,l,m in zip(route_list, sector_list, grade_list, ascents_list,star_count_list):\n",
    "    dic_all={\"route name\": i, \"sector name\": j, \"grade\": k, \"ascents\": l, \"stars\": m}\n",
    "    lst_all.append(dic_all)"
   ]
  },
  {
   "cell_type": "code",
   "execution_count": null,
   "metadata": {},
   "outputs": [],
   "source": [
    "lst_all"
   ]
  },
  {
   "cell_type": "code",
   "execution_count": null,
   "metadata": {},
   "outputs": [],
   "source": [
    "df=pd.DataFrame(lst_all)"
   ]
  },
  {
   "cell_type": "code",
   "execution_count": null,
   "metadata": {
    "scrolled": true
   },
   "outputs": [],
   "source": [
    "df"
   ]
  },
  {
   "cell_type": "code",
   "execution_count": null,
   "metadata": {},
   "outputs": [],
   "source": [
    "# Export dataframe\n",
    "\n",
    "df.to_csv(r'albarracin.csv', index = False)"
   ]
  },
  {
   "cell_type": "markdown",
   "metadata": {},
   "source": [
    "# Insert data in MongoDB"
   ]
  },
  {
   "cell_type": "code",
   "execution_count": null,
   "metadata": {},
   "outputs": [],
   "source": [
    "import pymongo\n",
    "from pymongo import MongoClient"
   ]
  },
  {
   "cell_type": "code",
   "execution_count": null,
   "metadata": {},
   "outputs": [],
   "source": [
    "client = MongoClient()\n",
    "client"
   ]
  },
  {
   "cell_type": "code",
   "execution_count": null,
   "metadata": {},
   "outputs": [],
   "source": [
    "# Get the database\n",
    "\n",
    "db = client.get_database(\"climbing-api\")"
   ]
  },
  {
   "cell_type": "code",
   "execution_count": null,
   "metadata": {},
   "outputs": [],
   "source": [
    "# Insert into the database\n",
    "\n",
    "db.rozas.insert_many(lst_all)"
   ]
  }
 ],
 "metadata": {
  "kernelspec": {
   "display_name": "Python 3",
   "language": "python",
   "name": "python3"
  },
  "language_info": {
   "codemirror_mode": {
    "name": "ipython",
    "version": 3
   },
   "file_extension": ".py",
   "mimetype": "text/x-python",
   "name": "python",
   "nbconvert_exporter": "python",
   "pygments_lexer": "ipython3",
   "version": "3.8.3"
  }
 },
 "nbformat": 4,
 "nbformat_minor": 4
}
